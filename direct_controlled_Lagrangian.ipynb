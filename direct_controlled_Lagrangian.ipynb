{
 "cells": [
  {
   "cell_type": "markdown",
   "id": "4f5ee757",
   "metadata": {},
   "source": [
    "# Solving the OCP via direct approach with new approach and standard\n",
    "\n",
    "State equations: forced euler-Lagrange:\n",
    "$$\n",
    "\\frac{d}{dt}D_2 L = D_1 L + f_L^\\mathcal{E}\n",
    "$$\n"
   ]
  },
  {
   "cell_type": "markdown",
   "id": "2a4ca85e",
   "metadata": {},
   "source": [
    "# imports"
   ]
  },
  {
   "cell_type": "code",
   "execution_count": null,
   "id": "f98ece77",
   "metadata": {},
   "outputs": [],
   "source": [
    "import sympy\n",
    "import numpy as np\n",
    "import function_definitions_forced as field_funcs\n",
    "import helper_funcs as hfct\n",
    "import pickle\n",
    "import scipy\n",
    "import scipy.optimize as opt\n",
    "import OCP_construction_functions_forced as OCP_funcs\n",
    "import matplotlib.pyplot as plt\n",
    "import sympy\n",
    "import numpy as np"
   ]
  },
  {
   "cell_type": "markdown",
   "id": "202d6598",
   "metadata": {},
   "source": [
    "# Parameter definitions"
   ]
  },
  {
   "cell_type": "code",
   "execution_count": null,
   "id": "4385b7b1",
   "metadata": {},
   "outputs": [],
   "source": [
    "\n",
    "################################################################################\n",
    "################################################################################\n",
    "## Vary here N and alpha, gamma\n",
    "################################################################################\n",
    "################################################################################\n",
    "\n",
    "iterater = 1\n",
    "N_choice = [50,100,150,200,250,300,350,400,450,500,600][iterater] \n",
    "alpha_choice = 1\n",
    "gamma_choice= 0.5\n",
    "\n",
    "\n",
    "################################################################################\n",
    "################################################################################\n",
    "# End variation\n",
    "################################################################################\n",
    "################################################################################\n",
    "\n",
    "\n",
    "#################################################################\n",
    "#################################################################\n",
    "# Give here link \n",
    "#################################################################\n",
    "#################################################################\n",
    "\n",
    "save_data_file = 'data/pendulum_inversion/reference/pendulum_reference.pkl'\n",
    "\n",
    "#################################################################\n",
    "#################################################################\n",
    "\n",
    "#################################################################\n",
    "#################################################################\n",
    "\n",
    "\n",
    "OCP_parameters = {\n",
    "            # Generic OCP params, always needed\n",
    "            \"T\": 3.,   #s\n",
    "            # \"dim_q\": 2,  # state dimension will be set by the control Lagrangian\n",
    "            # \"dim_u\": 1,  # actuation dimension will be set by the control Lagrangian\n",
    "            \"N\":N_choice,     #240, 160, 80, 40, 20\n",
    "            \"q0\": sympy.Matrix([0.,0.]),        #(m,1)\n",
    "            \"dq0\": sympy.Matrix([0.,0.]),       #(m/s,1/s)\n",
    "            \"qT\": sympy.Matrix([0.,sympy.pi]),       #(r,phi) \n",
    "            \"dqT\": sympy.Matrix([0.,0.]),       #(vr,vphi)\n",
    "            \"alpha\": sympy.Symbol(\"alpha\"),\n",
    "            \"gamma\": sympy.Symbol(\"gamma\"),\n",
    "            'folder_name': 'pendulum_inversion',\n",
    "            #specific to model\n",
    "            \"m1\":10.,  # kg\n",
    "            \"m2\":9.,\n",
    "            \"l\":0.5,\n",
    "            \"I\":3.2,\n",
    "            \"G\": 9.81, #m/s**2\n",
    "            \"Aq\": 123.7, #  kg/s^2\n",
    "            \"Adq\": 127.7, # kg/s\n",
    "            \"A_u\": 0.00052,\n",
    "            \"dim_u\":1,\n",
    "            \"variable_names\": [\"x\", \"theta\"]\n",
    "        }\n",
    "OCP_parameters[\"h\"] = sympy.symbols(\"h\")\n",
    "OCP_parameters[\"times\"] = sympy.Matrix([i*OCP_parameters[\"h\"] for i in range(OCP_parameters[\"N\"]+1)])"
   ]
  },
  {
   "cell_type": "markdown",
   "id": "61763694",
   "metadata": {},
   "source": [
    "# Function definition"
   ]
  },
  {
   "cell_type": "code",
   "execution_count": null,
   "id": "708db490",
   "metadata": {},
   "outputs": [],
   "source": [
    "continuous_eq = OCP_funcs.Direct_continuous_generator_forced_L(OCP_parameters,Lagrangian=field_funcs.pendulum_cart_lagrangian,f_L=field_funcs.f_L,running_cost_func=field_funcs.running_cost_pendulum,mayer_func=field_funcs.mayer_term_pendulum,g_func=field_funcs.g_mat_pendulum,I_func=field_funcs.conserved_I_control_pendulum)"
   ]
  },
  {
   "cell_type": "markdown",
   "id": "78db6d72",
   "metadata": {},
   "source": [
    "# initial guess creation"
   ]
  },
  {
   "cell_type": "code",
   "execution_count": null,
   "id": "782e439a",
   "metadata": {},
   "outputs": [],
   "source": [
    "#####\n",
    "# new approach of getting initial values with the new structure of data\n",
    "#####\n",
    "\n",
    "alpha_value,beta_value,gamma_value=alpha_choice,gamma_choice,gamma_choice\n",
    "def dphi_from_radius(radius,grav,Mass):\n",
    "    return  np.sqrt(grav* Mass/radius**3)\n",
    "def rescale_stepsize_parameters(parameters, stepsize):\n",
    "    parameters[\"h\"] = stepsize\n",
    "    parameters[\"times\"] = np.array([parameters[\"t_0\"] + parameters[\"h\"]*i for i in range(parameters[\"N\"]+1)])\n",
    "OCP_parameters_np_version = hfct.sympy_to_np_dict(OCP_parameters,alpha_choice,gamma_choice)\n",
    "parameters = OCP_parameters_np_version \n",
    "\n",
    "with open(save_data_file, 'rb') as files:\n",
    "    initial_guess_data = pickle.load(files)\n",
    "\n",
    "q_d_start_guess = initial_guess_data[\"q_d_new\"]\n",
    "\n",
    "vq_d_start_guess = initial_guess_data[\"v_y_d_new\"][:,:2]\n",
    "lam_d_start_guess = initial_guess_data[\"lambda_d_new\"]\n",
    "u_d_start_guess = initial_guess_data['u_d_new']\n",
    "lam_q_start_guess = initial_guess_data[\"lambda_q_standard\"]\n",
    "lam_v_start_guess = initial_guess_data[\"lambda_v_standard\"]\n",
    "cs_q =  scipy.interpolate.CubicSpline(np.linspace(0,parameters[\"T\"],len(q_d_start_guess)), q_d_start_guess.reshape([len(q_d_start_guess),2]))\n",
    "cs_vq =  scipy.interpolate.CubicSpline(np.linspace(0,parameters[\"T\"],len(vq_d_start_guess)), vq_d_start_guess.reshape([len(vq_d_start_guess),2]))\n",
    "cs_lam = scipy.interpolate.CubicSpline(np.linspace(0,parameters[\"T\"],len(lam_d_start_guess)), lam_d_start_guess.reshape([len(lam_d_start_guess),2]))  \n",
    "cs_lam_q = scipy.interpolate.CubicSpline(np.linspace(0,parameters[\"T\"],len(lam_q_start_guess)), lam_q_start_guess.reshape([len(lam_q_start_guess),2]))  \n",
    "cs_lam_v = scipy.interpolate.CubicSpline(np.linspace(0,parameters[\"T\"],len(lam_v_start_guess)), lam_v_start_guess.reshape([len(lam_v_start_guess),2]))  \n",
    "cs_u= scipy.interpolate.CubicSpline(np.linspace(0,parameters[\"T\"],len(u_d_start_guess)),u_d_start_guess)\n",
    "\n",
    "U_d_1_use = cs_u(np.array(parameters[\"times\"]) + parameters[\"gamma\"]*parameters[\"h\"]).reshape(len(parameters[\"times\"]),1,1)\n",
    "U_d_2_use = cs_u(np.array(parameters[\"times\"]) + (1-parameters[\"gamma\"])*parameters[\"h\"]).reshape(len(parameters[\"times\"]),1,1)\n",
    "\n",
    "q_d_use = cs_q(parameters[\"times\"]).reshape(len(parameters[\"times\"]),2,1)\n",
    "lambda_d_use = cs_lam(parameters[\"times\"]).reshape(len(parameters[\"times\"]),2,1)\n",
    "lambda_q_d_use = cs_lam_q(parameters[\"times\"]).reshape(len(parameters[\"times\"]),2,1)\n",
    "lambda_v_d_use = cs_lam_v(parameters[\"times\"]).reshape(len(parameters[\"times\"]),2,1)\n",
    "mu_use = initial_guess_data['mu_sol_new']\n",
    "nu_use =  initial_guess_data['nu_sol_new']\n",
    "v_q_use = cs_vq(parameters[\"times\"]).reshape(len(parameters[\"times\"]),2,1)\n",
    "\n",
    "initial_guess= list(mu_use) + list(nu_use)\n",
    "initial_guess_new = list(mu_use) + list(nu_use)\n",
    "\n",
    "for tmp in q_d_use:\n",
    "    initial_guess += list(tmp.flatten())\n",
    "    initial_guess_new+=list(tmp.flatten())\n",
    "    #vq guess\n",
    "for tmp in v_q_use:\n",
    "    initial_guess += list(tmp.flatten())\n",
    "#lambda terms\n",
    "for tmp in lambda_d_use:\n",
    "    initial_guess_new += list(tmp.flatten())\n",
    "\n",
    "for tmp in lambda_q_d_use:\n",
    "    initial_guess += list(tmp.flatten())\n",
    "for tmp in lambda_v_d_use:\n",
    "    initial_guess += list(tmp.flatten())\n",
    "\n",
    "initial_guess += list(U_d_1_use.flatten()) \n",
    "initial_guess += list(U_d_2_use.flatten()) \n",
    "initial_guess_new += list(U_d_1_use.flatten()) \n",
    "initial_guess_new += list(U_d_2_use.flatten()) \n",
    "\n",
    "# needed because v_y creates sympy objects...\n",
    "initial_guess=np.array(initial_guess,dtype='float')\n",
    "initial_guess_new=np.array(initial_guess_new,dtype='float')\n",
    "\n"
   ]
  },
  {
   "cell_type": "markdown",
   "id": "222c9219",
   "metadata": {},
   "source": [
    "# Evolution via state eq"
   ]
  },
  {
   "cell_type": "code",
   "execution_count": null,
   "id": "91c2a0da",
   "metadata": {},
   "outputs": [],
   "source": [
    "discrete_equations = OCP_funcs.discrete_standard_direct_eq_generator_forced_L(continuous_eq)"
   ]
  },
  {
   "cell_type": "markdown",
   "id": "96dcad24",
   "metadata": {},
   "source": [
    "# lambdify the equations for root finding"
   ]
  },
  {
   "cell_type": "code",
   "execution_count": null,
   "id": "64ebe154",
   "metadata": {},
   "outputs": [],
   "source": [
    "#KKT direct approach\n",
    "standard_direct_midpoint_KKT = discrete_equations.calc_KKT(OCP_parameters_np_version)\n",
    "lambdified_KKT =  sympy.lambdify(standard_direct_midpoint_KKT[1],standard_direct_midpoint_KKT[0].subs(discrete_equations.h,OCP_parameters_np_version[\"h\"]).subs(discrete_equations.cont_equations.parameters[\"alpha\"],alpha_choice).subs(discrete_equations.cont_equations.parameters[\"gamma\"],gamma_choice)) \n",
    "lambdified_KKT_eval = lambda x :lambdified_KKT(*x)\n"
   ]
  },
  {
   "cell_type": "code",
   "execution_count": null,
   "id": "bf3fce4c",
   "metadata": {},
   "outputs": [],
   "source": [
    "#KKT direct approach with new Lagrangian\n",
    "standard_direct_KKT_new = discrete_equations.calc_KKT_new(OCP_parameters_np_version)\n",
    "\n",
    "lambdified_KKT_new =  sympy.lambdify(standard_direct_KKT_new[1],standard_direct_KKT_new[0].subs(discrete_equations.h,OCP_parameters_np_version[\"h\"]).subs(discrete_equations.cont_equations.parameters[\"alpha\"],alpha_choice).subs(discrete_equations.cont_equations.parameters[\"gamma\"],gamma_choice))\n",
    "\n",
    "lambdified_KKT_new_eval = lambda x :lambdified_KKT_new(*x)\n"
   ]
  },
  {
   "cell_type": "markdown",
   "id": "5078ca07",
   "metadata": {},
   "source": [
    "# Post-processing of initial guess data"
   ]
  },
  {
   "cell_type": "code",
   "execution_count": null,
   "id": "13a065fd",
   "metadata": {},
   "outputs": [],
   "source": [
    "v_vec = discrete_equations.cont_equations.v_y_as_p_y()\n",
    "v_vec_lambdified = sympy.lambdify(sympy.flatten(discrete_equations.cont_equations.q)+sympy.flatten(discrete_equations.cont_equations.lamq)+sympy.flatten(discrete_equations.cont_equations.pq)+sympy.flatten(discrete_equations.cont_equations.plam),v_vec)\n",
    "\n",
    "v_eval = lambda q,lam,p_y: v_vec_lambdified(*q,*lam,*p_y)"
   ]
  },
  {
   "cell_type": "code",
   "execution_count": null,
   "id": "f6c31aac",
   "metadata": {},
   "outputs": [],
   "source": [
    "p_y_d_use = np.array(sympy.Matrix([sympy.flatten(tmp) for tmp in discrete_equations.p_v_d_from_y_d(q_d_use[:,:,0],lambda_d_use[:,:,0],U_d_1_use[:,:,0],U_d_2_use[:,:,0],OCP_parameters_np_version)]),dtype=float)\n",
    "v_y_d_use = []\n",
    "for tmp1,tmp2,tmp3 in zip(q_d_use[:,:,0],lambda_d_use[:,:,0],p_y_d_use):\n",
    "    v_y_d_use.append(sympy.flatten(v_eval(tmp1,tmp2,tmp3)))\n",
    "v_y_d_use = np.array(v_y_d_use) \n"
   ]
  },
  {
   "cell_type": "code",
   "execution_count": null,
   "id": "d86d8aed",
   "metadata": {},
   "outputs": [],
   "source": [
    "# comparison H, u_d, I calc\n",
    "\n",
    "u_vec_comparison = []\n",
    "for i in range(len(q_d_use)):\n",
    "    u_vec_comparison.append(discrete_equations.cont_equations.u_eval_from_new(q_d_use[i],lambda_d_use[i],p_y_d_use[i][:2],p_y_d_use[i][2:],OCP_parameters))\n",
    "\n",
    "u_vec_comparison = np.array(u_vec_comparison)\n",
    "\n",
    "H_control_comparison = []\n",
    "for i in range(len(q_d_use)):\n",
    "    H_control_comparison.append(discrete_equations.cont_equations.new_control_H_eval(q_d_use[i],lambda_d_use[i],p_y_d_use[i][:2],p_y_d_use[i][2:],u_vec_comparison[i],OCP_parameters_np_version))\n",
    "H_control_comparison = np.array(H_control_comparison)"
   ]
  },
  {
   "cell_type": "markdown",
   "id": "5352f319",
   "metadata": {},
   "source": [
    "# Root finding of KKT conditions"
   ]
  },
  {
   "cell_type": "code",
   "execution_count": null,
   "id": "e8800e11",
   "metadata": {},
   "outputs": [],
   "source": [
    "# #standard direct approach\n",
    "direct_result_KKT = opt.root(lambdified_KKT_eval,x0=initial_guess,method=\"lm\")\n",
    "direct_result_KKT = opt.root(lambdified_KKT_eval,x0=direct_result_KKT.x,method=\"lm\")"
   ]
  },
  {
   "cell_type": "code",
   "execution_count": null,
   "id": "033f51a6",
   "metadata": {},
   "outputs": [],
   "source": [
    "#new lagrangian approach\n",
    "direct_result_KKT_new = opt.root(lambdified_KKT_new_eval,method='lm',x0=initial_guess_new,options={'ftol': 1e-13,'xtol':1e-13})\n"
   ]
  },
  {
   "cell_type": "code",
   "execution_count": null,
   "id": "b0005037",
   "metadata": {},
   "outputs": [],
   "source": [
    "direct_result_KKT"
   ]
  },
  {
   "cell_type": "code",
   "execution_count": null,
   "id": "75630f64",
   "metadata": {},
   "outputs": [],
   "source": [
    "direct_result_KKT_new"
   ]
  },
  {
   "cell_type": "markdown",
   "id": "951f2a95",
   "metadata": {},
   "source": [
    "# Post-processing"
   ]
  },
  {
   "cell_type": "code",
   "execution_count": null,
   "id": "6ce5701e",
   "metadata": {},
   "outputs": [],
   "source": [
    "reshape_params = discrete_equations.cont_equations.parameters\n",
    "reshape_N = reshape_params[\"N\"]\n",
    "reshape_dim_q = reshape_params[\"dim_q\"]\n",
    "reshape_dim_u = reshape_params[\"dim_u\"]\n",
    "mu_KKT,nu_KKT = direct_result_KKT.x[:2*reshape_dim_q].reshape(2,reshape_dim_q)\n",
    "q_d_KKT = direct_result_KKT.x[2*reshape_dim_q:2*reshape_dim_q + reshape_dim_q * (reshape_N+1)].reshape(reshape_N + 1,reshape_dim_q)\n",
    "vq_d_KKT = direct_result_KKT.x[2*reshape_dim_q + reshape_dim_q * (reshape_N+1):2*reshape_dim_q + 2*reshape_dim_q * (reshape_N+1)].reshape(reshape_N + 1,reshape_dim_q)\n",
    "lamq_d_KKT = direct_result_KKT.x[2*reshape_dim_q + 2*reshape_dim_q * (reshape_N+1):2*reshape_dim_q + 3*reshape_dim_q * (reshape_N+1)].reshape(reshape_N + 1,reshape_dim_q)\n",
    "lamv_d_KKT = direct_result_KKT.x[2*reshape_dim_q + 3*reshape_dim_q * (reshape_N+1):2*reshape_dim_q + 4*reshape_dim_q * (reshape_N+1)].reshape(reshape_N + 1,reshape_dim_q)\n",
    "U1_d_KKT = direct_result_KKT.x[2*reshape_dim_q + 4*reshape_dim_q * (reshape_N+1):2*reshape_dim_q + 4*reshape_dim_q * (reshape_N+1) + (reshape_N+1)*reshape_dim_u ].reshape(reshape_N + 1,reshape_params[\"dim_u\"])\n",
    "U2_d_KKT = direct_result_KKT.x[2*reshape_dim_q + 4*reshape_dim_q * (reshape_N+1)+ (reshape_N+1)*reshape_dim_u:].reshape(reshape_N + 1,reshape_params[\"dim_u\"])\n",
    "\n",
    "u_vec_KKT = []\n",
    "for i in range(len(q_d_KKT)):\n",
    "    u_vec_KKT.append(discrete_equations.cont_equations.u_Pontryagin_eval(q_d_KKT[i],vq_d_KKT[i],lamq_d_KKT[i],lamv_d_KKT[i],OCP_parameters_np_version))\n",
    "u_vec_KKT= np.array(u_vec_KKT)\n",
    "H_Pontry_KKT = []\n",
    "for i in range(len(q_d_KKT)):\n",
    "    H_Pontry_KKT.append(discrete_equations.cont_equations.Pontryagin_H_eval(q_d_KKT[i],vq_d_KKT[i],lamq_d_KKT[i],lamv_d_KKT[i],u_vec_KKT[i],OCP_parameters_np_version))\n",
    "H_Pontry_KKT = np.array(H_Pontry_KKT)    \n",
    "\n"
   ]
  },
  {
   "cell_type": "code",
   "execution_count": null,
   "id": "acc1ee50",
   "metadata": {},
   "outputs": [],
   "source": [
    "reshape_params = discrete_equations.cont_equations.parameters\n",
    "reshape_N = reshape_params[\"N\"]\n",
    "reshape_dim_q = reshape_params[\"dim_q\"]\n",
    "reshape_dim_u = reshape_params[\"dim_u\"]\n",
    "mu_KKT_new,nu_KKT_new = direct_result_KKT_new.x[:2*reshape_dim_q].reshape(2,reshape_dim_q)\n",
    "q_d_KKT_new = direct_result_KKT_new.x[2*reshape_dim_q:2*reshape_dim_q + reshape_dim_q * (reshape_N+1)].reshape(reshape_N + 1,reshape_dim_q)\n",
    "lam_d_KKT_new = direct_result_KKT_new.x[2*reshape_dim_q + reshape_dim_q * (reshape_N+1):2*reshape_dim_q + 2*reshape_dim_q * (reshape_N+1)].reshape(reshape_N + 1,reshape_dim_q)\n",
    "\n",
    "U1_d_KKT_new = direct_result_KKT_new.x[2*reshape_dim_q + 2*reshape_dim_q * (reshape_N+1):2*reshape_dim_q + 2*reshape_dim_q * (reshape_N+1) + (reshape_N+1)*reshape_dim_u].reshape(reshape_N + 1,reshape_params[\"dim_u\"])\n",
    "U2_d_KKT_new = direct_result_KKT_new.x[2*reshape_dim_q + 2*reshape_dim_q * (reshape_N+1) + (reshape_N+1)*reshape_dim_u:].reshape(reshape_N + 1,reshape_params[\"dim_u\"])\n",
    "\n",
    "p_y_d_new = np.array([sympy.flatten(tmp) for tmp in discrete_equations.p_v_d_from_y_d(q_d_KKT_new,lam_d_KKT_new,U1_d_KKT_new,U2_d_KKT_new,OCP_parameters_np_version)])\n",
    "\n",
    "\n",
    "\n",
    "u_vec_KKT_new = []\n",
    "for i in range(len(q_d_KKT_new)):\n",
    "    u_vec_KKT_new.append(discrete_equations.cont_equations.u_eval_from_new(q_d_KKT_new[i],lam_d_KKT_new[i],p_y_d_new[i][:2],p_y_d_new[i][2:],OCP_parameters))\n",
    "\n",
    "u_vec_KKT_new = np.array(u_vec_KKT_new)\n",
    "\n",
    "H_control_KKT_new = []\n",
    "for i in range(len(q_d_KKT_new)):\n",
    "    H_control_KKT_new.append(discrete_equations.cont_equations.new_control_H_eval(q_d_KKT_new[i],lam_d_KKT_new[i],p_y_d_new[i][:2],p_y_d_new[i][2:],u_vec_KKT_new[i],OCP_parameters_np_version))\n",
    "H_control_KKT_new = np.array(H_control_KKT_new)  \n",
    "\n"
   ]
  },
  {
   "cell_type": "code",
   "execution_count": null,
   "id": "9bacb0da",
   "metadata": {},
   "outputs": [],
   "source": [
    "v_y_d_new = []\n",
    "for tmp1,tmp2,tmp3 in zip(q_d_KKT_new,lam_d_KKT_new,p_y_d_new):\n",
    "    v_y_d_new.append(sympy.flatten(v_eval(tmp1,tmp2,tmp3)))\n",
    "v_y_d_new = np.array(v_y_d_new) \n",
    "\n",
    "\n",
    "if discrete_equations.cont_equations.I_func is not None:\n",
    "    I_func_lambdified = sympy.lambdify(sympy.flatten(discrete_equations.all_vars_new_approach),discrete_equations.cont_equations.I_func)\n",
    "    I_new_evo = []\n",
    "    for tmpq,tmplam,tmpvy,tmpu in zip(q_d_KKT_new,lam_d_KKT_new,v_y_d_new,u_vec_KKT_new):\n",
    "        I_new_evo.append(np.array(I_func_lambdified(*tmpq,*tmpvy[:2],*tmplam,*(tmpvy[2:]),*tmpu),float).flatten())\n",
    "    I_new_evo=np.array(I_new_evo).flatten()\n",
    "\n",
    "    "
   ]
  },
  {
   "cell_type": "code",
   "execution_count": null,
   "id": "2a4d67cd",
   "metadata": {},
   "outputs": [],
   "source": [
    "xi_calc_standard = np.array([continuous_eq.calc_xi_from_standard_variables(tmpq,tmplamq) for tmpq,tmplamq in zip(q_d_KKT,lamv_d_KKT)])\n",
    "continuous_eq.calc_v_xi_from_standard_variables()\n",
    "v_xi_calc_standard = []\n",
    "vxi_calc_test = []\n",
    "for i in range(len(q_d_KKT)):\n",
    "    v_xi_calc_standard.append(continuous_eq.eval_v_xi(q_d_KKT[i],vq_d_KKT[i],lamq_d_KKT[i],lamv_d_KKT[i],xi_calc_standard[i],u_vec_KKT[i]))\n",
    "v_xi_calc_standard = np.array(v_xi_calc_standard)\n",
    "\n",
    "\n",
    "p_y_d_standard = np.array([sympy.flatten(tmp) for tmp in discrete_equations.p_v_d_from_y_d(q_d_KKT,xi_calc_standard,U1_d_KKT,U2_d_KKT,OCP_parameters_np_version)])\n",
    "H_control_standard = []\n",
    "for i in range(len(q_d_KKT)):\n",
    "    H_control_standard.append(discrete_equations.cont_equations.new_control_H_eval(q_d_KKT[i],xi_calc_standard[i],p_y_d_standard[i][:2],p_y_d_standard[i][2:],u_vec_KKT[i],OCP_parameters_np_version))\n",
    "H_control_standard = np.array(H_control_standard)  \n",
    "\n",
    "\n",
    "\n",
    "I_standard_evo = []\n",
    "for tmpq,tmplam,tmpvq,tmpvlam,tmpu in zip(q_d_KKT,xi_calc_standard,vq_d_KKT,v_xi_calc_standard,u_vec_KKT):\n",
    "    I_standard_evo.append(np.array(I_func_lambdified(*tmpq,*tmpvq,*tmplam,*tmpvlam,*tmpu),float)[0])\n",
    "I_standard_evo = np.array(I_standard_evo).flatten()\n",
    "\n",
    "# plt.plot(xi_calc_standard.transpose()[0],label=r'$\\xi_x$ from standard')\n",
    "# plt.plot(lam_d_KKT_new.transpose()[0],'--',label=r'$\\xi_x$ from new')\n",
    "# plt.legend()\n",
    "# plt.show()\n",
    "# plt.plot(xi_calc_standard.transpose()[1],label=r'$\\xi_\\theta$ from standard')\n",
    "# plt.plot(lam_d_KKT_new.transpose()[1],'--',label=r'$\\xi_\\theta$ from new')\n",
    "# plt.legend()\n",
    "# plt.show()\n",
    "# plt.plot(v_xi_calc_standard.transpose()[0],label='standard')\n",
    "# plt.plot(v_y_d_new.transpose()[2],label=r'$v_{\\xi_x}$new ')\n",
    "# plt.legend()\n"
   ]
  },
  {
   "cell_type": "markdown",
   "id": "dbc69522",
   "metadata": {},
   "source": [
    "# plot results"
   ]
  },
  {
   "cell_type": "code",
   "execution_count": null,
   "id": "b727a0db",
   "metadata": {},
   "outputs": [],
   "source": [
    "q_d_standard_KKT_sol_cart = []\n",
    "q_d_new_KKT_sol_cart = []\n",
    "q_d_standard_KKT_sol_cart = q_d_KKT\n",
    "q_d_new_KKT_sol_cart = q_d_KKT_new\n",
    "q_d_standard_KKT_sol_cart = np.array(q_d_standard_KKT_sol_cart)\n",
    "q_d_new_KKT_sol_cart = np.array(q_d_new_KKT_sol_cart)\n",
    "\n",
    "\n",
    "plt.plot(q_d_use[:,0].flatten(),q_d_use[:,1].flatten(),'*',label='xy sol')\n",
    "plt.plot(*q_d_standard_KKT_sol_cart.transpose(),label='standard x,y evo')\n",
    "plt.plot(*q_d_new_KKT_sol_cart.transpose(),'--',label='new x,y evo')\n",
    "plt.legend()\n",
    "plt.xlabel('x')\n",
    "plt.ylabel('y')\n",
    "plt.tight_layout()\n",
    "\n",
    "plt.show()\n",
    "\n",
    "plt.plot(OCP_parameters_np_version[\"times\"][:-1],xi_calc_standard.transpose()[0][:-1],label='standard xi_r')\n",
    "\n",
    "plt.plot(OCP_parameters_np_version[\"times\"],lam_d_KKT_new.transpose()[0],'--',label='new approach lam_r')\n",
    "plt.legend()\n",
    "plt.xlabel('N step')\n",
    "plt.ylabel('lambda_r')\n",
    "plt.tight_layout()\n",
    "\n",
    "plt.show()\n",
    "plt.plot(OCP_parameters_np_version[\"times\"][:-1],xi_calc_standard.transpose()[1][:-1],label='standard lamv_phi')\n",
    "plt.plot(OCP_parameters_np_version[\"times\"],lam_d_KKT_new.transpose()[1],'--',label='new aproach lam_phi')\n",
    "plt.legend()\n",
    "plt.xlabel('N step')\n",
    "plt.ylabel('lambda_phi')\n",
    "plt.tight_layout()\n",
    "\n",
    "\n",
    "plt.show()\n",
    "plt.plot(U1_d_KKT[:-1],label='standard')\n",
    "plt.plot(U1_d_KKT_new[:-1],'x',label='new')\n",
    "plt.plot(U_d_1_use[:-1,0,0],'--',label='comparison')\n",
    "plt.legend()\n",
    "plt.xlabel('N step')\n",
    "plt.ylabel('U_1')\n",
    "plt.tight_layout()\n",
    "\n",
    "\n",
    "plt.show()\n",
    "\n",
    "plt.plot(U2_d_KKT[:-1],label='standard')\n",
    "plt.plot(U2_d_KKT_new[:-1],'x',label='new')\n",
    "plt.plot(U_d_2_use[:-1,0,0],'--',label='comparison')\n",
    "plt.legend()\n",
    "plt.xlabel('N step')\n",
    "plt.ylabel('U_2')\n",
    "plt.tight_layout()\n",
    "\n",
    "\n",
    "plt.show()\n",
    "plt.plot(U_d_2_use[:-1,0,0],'--',label='comparison')\n",
    "plt.plot(u_vec_KKT_new[:,0],label='new ud')\n",
    "plt.plot(u_vec_KKT[:,0],label='standard ud')\n",
    "plt.xlabel('N step')\n",
    "plt.ylabel('u_d')\n",
    "plt.legend()\n",
    "\n",
    "\n",
    "plt.show()\n",
    "plt.plot(np.array(I_new_evo)[:-2],'X-',label=\"I new\")\n",
    "\n",
    "plt.legend()\n",
    "plt.xlabel('N step')\n",
    "plt.ylabel('I')\n",
    "plt.tight_layout()\n",
    "\n",
    "plt.show()\n",
    "plt.plot(-(H_Pontry_KKT[:-1]), label='Pontryagin H')\n",
    "plt.plot((H_control_KKT_new[:-1]),'--',label='new control H')\n",
    "plt.legend()\n",
    "\n",
    "plt.xlabel('N step')\n",
    "plt.ylabel('H')\n"
   ]
  },
  {
   "cell_type": "markdown",
   "id": "5b6cf7b5",
   "metadata": {},
   "source": [
    "# Saving data"
   ]
  },
  {
   "cell_type": "code",
   "execution_count": null,
   "id": "e995eefa",
   "metadata": {},
   "outputs": [],
   "source": [
    "from pathlib import Path \n",
    "\n",
    "if not direct_result_KKT_new.success:\n",
    "    print('did not find a solution in control dependent case, not storing the result')\n",
    "else:\n",
    "    storage_dict = dict()\n",
    "    storage_dict[\"parameters\"] = OCP_parameters_np_version\n",
    "    storage_dict[\"q_d_new\"] = q_d_KKT_new\n",
    "    storage_dict[\"lambda_d_new\"] = lam_d_KKT_new\n",
    "    storage_dict[\"p_y_d_new\"] = np.array(p_y_d_new,dtype=float)\n",
    "    storage_dict[\"U1_d_new\"] = np.array(U1_d_KKT_new,dtype=float)\n",
    "    storage_dict[\"U2_d_new\"] = np.array(U2_d_KKT_new,dtype=float)\n",
    "    storage_dict[\"u_d_new\"] = np.array(u_vec_KKT_new,dtype=float)\n",
    "    storage_dict[\"I_d_new\"] = np.array(I_new_evo,dtype=float)\n",
    "    storage_dict[\"H_control_new\"] = np.array(H_control_KKT_new,dtype=float)\n",
    "    storage_dict[\"v_y_d_new\"] = np.array(v_y_d_new,dtype=float)\n",
    "    storage_dict[\"q_d_standard\"] =   q_d_KKT\n",
    "    storage_dict[\"lambda_q_standard\"] = lamq_d_KKT\n",
    "    storage_dict[\"lambda_v_standard\"] = lamv_d_KKT\n",
    "    storage_dict[\"vq_d_standard\"] = vq_d_KKT\n",
    "    storage_dict[\"U1_d_standard\"] = U1_d_KKT\n",
    "    storage_dict[\"U2_d_standard\"] = U2_d_KKT\n",
    "    storage_dict[\"u_d_standard\"] = u_vec_KKT\n",
    "    storage_dict[\"H_pontry_standard\"] = H_Pontry_KKT\n",
    "    storage_dict[\"mu_sol_new\"] = mu_KKT_new \n",
    "    storage_dict[\"nu_sol_new\"] = nu_KKT_new \n",
    "    storage_dict[\"xi_calc_standard\"] = xi_calc_standard\n",
    "    storage_dict[\"v_xi_calc_standard\"] = v_xi_calc_standard\n",
    "    storage_dict[\"I_standard_evo\"] = I_standard_evo\n",
    "    storage_dict[\"p_y_d_standard\"] = p_y_d_standard\n",
    "\n",
    "\n",
    "    dirpath = \"data/\" + OCP_parameters_np_version[\"folder_name\"]+'smallerqd'+\"/data_\"+\"a=\" + str(OCP_parameters_np_version[\"alpha\"])  +\"g=\" + str(OCP_parameters_np_version[\"gamma\"])\n",
    "    Path(dirpath).mkdir(parents=True, exist_ok=True)\n",
    "\n",
    "    file_name = dirpath+\"/data_\" +\"a=\" + str(OCP_parameters_np_version[\"alpha\"])  +\"g=\" + str(OCP_parameters_np_version[\"gamma\"])  +\"N=\" + str(OCP_parameters_np_version[\"N\"]) + \".pkl\"\n",
    "    with open(file_name, 'wb') as ffile:\n",
    "        pickle.dump(storage_dict, ffile)\n",
    "        ffile.close()"
   ]
  },
  {
   "cell_type": "code",
   "execution_count": null,
   "id": "5d70adf0",
   "metadata": {},
   "outputs": [],
   "source": []
  }
 ],
 "metadata": {
  "kernelspec": {
   "display_name": "Python 3",
   "language": "python",
   "name": "python3"
  },
  "language_info": {
   "codemirror_mode": {
    "name": "ipython",
    "version": 3
   },
   "file_extension": ".py",
   "mimetype": "text/x-python",
   "name": "python",
   "nbconvert_exporter": "python",
   "pygments_lexer": "ipython3",
   "version": "3.11.1"
  }
 },
 "nbformat": 4,
 "nbformat_minor": 5
}
