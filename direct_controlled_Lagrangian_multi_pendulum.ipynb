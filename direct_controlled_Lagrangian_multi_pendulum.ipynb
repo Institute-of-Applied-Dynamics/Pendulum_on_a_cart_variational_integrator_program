{
 "cells": [
  {
   "cell_type": "markdown",
   "id": "4f5ee757",
   "metadata": {},
   "source": [
    "# Solving the OCP via indirect approach, forced Lagrangian multi-pendulum on a cart\n",
    "\n",
    "first order eqs:\n",
    "$$\n",
    "\\dot{x} = v_x, \\dot{y}\n",
    "$$\n"
   ]
  },
  {
   "cell_type": "code",
   "execution_count": 1,
   "id": "f98ece77",
   "metadata": {},
   "outputs": [],
   "source": [
    "import sympy\n",
    "import numpy as np\n",
    "import function_definitions_forced as field_funcs\n",
    "import helper_funcs as hfct\n",
    "import pickle\n",
    "import scipy\n",
    "import scipy.optimize as opt\n",
    "import OCP_construction_functions_forced as OCP_funcs\n",
    "import ipdb\n"
   ]
  },
  {
   "cell_type": "code",
   "execution_count": 2,
   "id": "4385b7b1",
   "metadata": {},
   "outputs": [],
   "source": [
    "N_choice = 200\n",
    "alpha_choice = 1\n",
    "gamma_choice= 0.5\n",
    "save_data_file = 'data/multi_pendulum_inversion/reference/two_pendulum_reference.pkl'\n",
    "\n",
    "OCP_parameters = {\n",
    "            # Generic OCP params, always needed\n",
    "            \"T\": 3.,   #s\n",
    "            # \"dim_q\": 2,  # state dimension will be set by the control Lagrangian\n",
    "            # \"dim_u\": 1,  # actuation dimension will be set by the control Lagrangian\n",
    "            \"N\":N_choice,     #240, 160, 80, 40, 20\n",
    "            \"q0\": sympy.Matrix([0.,0,0.]),        #(m,1,1)\n",
    "            \"dq0\": sympy.Matrix([0.,0.,0.]),       #(m/s,1/s,1/s)\n",
    "            \"qT\": sympy.Matrix([0.,sympy.pi,0.]),      \n",
    "            \"dqT\": sympy.Matrix([0.,0.,0.]),       #(vr,vphi1,vphi2)\n",
    "            \"alpha\": alpha_choice,\n",
    "            \"gamma\": gamma_choice,\n",
    "            'folder_name': \"multi_pendulum_inversion\",\n",
    "            #specific to model\n",
    "            \"m0\":10.,\n",
    "            \"m1\":9.,  # kg\n",
    "            \"m2\":9.,\n",
    "            \"l1\":0.5,\n",
    "            \"l2\":0.5,\n",
    "            \"I1\":3.2,\n",
    "            \"I2\":3.2,\n",
    "            \"G\": 9.81, #m/s**2\n",
    "            \"Aq\": 123.7, #  kg/s^2\n",
    "            \"Adq\": 127.7, # kg/s\n",
    "            \"A_u\": 0.00052,\n",
    "            \"dim_u\":3,\n",
    "            \"variable_names\": [\"x\", \"theta_1\",\"theta_2\"]\n",
    "        }\n",
    "OCP_parameters[\"h\"] = sympy.symbols(\"h\")\n",
    "OCP_parameters[\"times\"] = sympy.Matrix([i*OCP_parameters[\"h\"] for i in range(OCP_parameters[\"N\"]+1)])"
   ]
  },
  {
   "cell_type": "markdown",
   "id": "61763694",
   "metadata": {},
   "source": [
    "# Function definition"
   ]
  },
  {
   "cell_type": "code",
   "execution_count": 3,
   "id": "708db490",
   "metadata": {},
   "outputs": [],
   "source": [
    "continuous_eq = OCP_funcs.Direct_continuous_generator_forced_L_double_pendulum(OCP_parameters,Lagrangian=field_funcs.two_pendulum_cart_lagrangian\n",
    "                                                               ,f_L=field_funcs.f_L_two_pendulum\n",
    "                                                               ,running_cost_func=field_funcs.running_cost_two_pendulum\n",
    "                                                               ,mayer_func=field_funcs.mayer_term_two_pendulum\n",
    "                                                               ,g_func=field_funcs.g_mat_two_pendulum\n",
    "                                                               ,I_func=field_funcs.conserved_I_control_two_pendulum)"
   ]
  },
  {
   "cell_type": "markdown",
   "id": "78db6d72",
   "metadata": {},
   "source": [
    "# initial guess creation"
   ]
  },
  {
   "cell_type": "code",
   "execution_count": 4,
   "id": "665bd54e",
   "metadata": {},
   "outputs": [],
   "source": [
    "OCP_parameters_np_version = hfct.sympy_to_np_dict(OCP_parameters,alpha_choice,gamma_choice)\n",
    "parameters = OCP_parameters_np_version\n",
    "\n",
    "\n",
    "with open(save_data_file, 'rb') as files:\n",
    "    initial_guess_data = pickle.load(files)\n",
    "\n",
    "q_d_start_guess = initial_guess_data[\"q_d_new\"]\n",
    "lam_d_start_guess = initial_guess_data[\"lambda_d_new\"]\n",
    "u_d_start_guess = initial_guess_data['u_d_new']\n",
    "\n",
    "cs_q =  scipy.interpolate.CubicSpline(np.linspace(0,parameters[\"T\"],len(q_d_start_guess)), q_d_start_guess.reshape([len(q_d_start_guess),3]))\n",
    "cs_lam = scipy.interpolate.CubicSpline(np.linspace(0,parameters[\"T\"],len(lam_d_start_guess)), lam_d_start_guess.reshape([len(lam_d_start_guess),3]))  \n",
    "cs_u= scipy.interpolate.CubicSpline(np.linspace(0,parameters[\"T\"],len(u_d_start_guess)),u_d_start_guess)\n",
    "\n",
    "U_d_1_use = cs_u(np.array(parameters[\"times\"]) + parameters[\"gamma\"]*parameters[\"h\"]).reshape(len(parameters[\"times\"]),1,3)\n",
    "U_d_2_use = cs_u(np.array(parameters[\"times\"]) + (1-parameters[\"gamma\"])*parameters[\"h\"]).reshape(len(parameters[\"times\"]),1,3)\n",
    "\n",
    "q_d_use = cs_q(parameters[\"times\"]).reshape(len(parameters[\"times\"]),3,1)\n",
    "lambda_d_use = cs_lam(parameters[\"times\"]).reshape(len(parameters[\"times\"]),3,1)\n",
    "mu_use = initial_guess_data[\"mu_sol\"] \n",
    "nu_use = initial_guess_data[\"nu_sol\"] \n",
    "v_q_use =[]\n",
    "\n",
    "import matplotlib.pyplot as plt\n",
    "q_d_use = list(q_d_use)\n",
    "lambda_d_use= list(lambda_d_use)\n",
    "U_d_1_use = list(U_d_1_use)\n",
    "U_d_2_use = list(U_d_2_use)\n",
    "q_d_use = np.array(q_d_use)\n",
    "lambda_d_use= np.array(lambda_d_use)\n",
    "U_d_1_use = np.array(U_d_1_use)\n",
    "U_d_2_use = np.array(U_d_2_use)\n",
    "\n"
   ]
  },
  {
   "cell_type": "markdown",
   "id": "222c9219",
   "metadata": {},
   "source": [
    "# Evolution via state eq"
   ]
  },
  {
   "cell_type": "code",
   "execution_count": 5,
   "id": "91c2a0da",
   "metadata": {},
   "outputs": [],
   "source": [
    "discrete_equations = OCP_funcs.discrete_standard_direct_eq_generator_forced_L_double_pendulum(continuous_eq)"
   ]
  },
  {
   "cell_type": "markdown",
   "id": "96dcad24",
   "metadata": {},
   "source": [
    "# lambdify the equations for root finding"
   ]
  },
  {
   "cell_type": "code",
   "execution_count": null,
   "id": "bf3fce4c",
   "metadata": {},
   "outputs": [],
   "source": [
    "#KKT direct approach with new Lagrangian\n",
    "standard_direct_KKT_new = discrete_equations.calc_KKT_new(OCP_parameters_np_version)\n",
    "\n",
    "lambdified_KKT_new =  sympy.lambdify(standard_direct_KKT_new[1],standard_direct_KKT_new[0].subs(discrete_equations.h,OCP_parameters_np_version[\"h\"]).subs(discrete_equations.cont_equations.parameters[\"alpha\"],alpha_choice).subs(discrete_equations.cont_equations.parameters[\"gamma\"],gamma_choice))\n",
    "\n",
    "lambdified_KKT_new_eval = lambda x :lambdified_KKT_new(*x)\n"
   ]
  },
  {
   "cell_type": "markdown",
   "id": "08eb17d8",
   "metadata": {},
   "source": [
    "# Executing root for solving KKT"
   ]
  },
  {
   "cell_type": "code",
   "execution_count": null,
   "id": "f6c31aac",
   "metadata": {},
   "outputs": [],
   "source": [
    "initial_guess_new = list(np.concatenate([mu_use,nu_use])) #mu and nu\n",
    "\n",
    "for tmp in q_d_use:\n",
    "    initial_guess_new+=list(tmp.flatten())\n",
    "    #vq guess\n",
    "#lambda terms\n",
    "for tmp in lambda_d_use:\n",
    "    initial_guess_new += list(tmp.flatten())\n",
    "\n",
    "\n",
    "initial_guess_new += list(U_d_1_use.flatten()) \n",
    "initial_guess_new += list(U_d_2_use.flatten()) \n"
   ]
  },
  {
   "cell_type": "code",
   "execution_count": null,
   "id": "033f51a6",
   "metadata": {},
   "outputs": [],
   "source": [
    "#new lagrangian approach\n",
    "standard_result_polar_KKT_new = opt.root(lambdified_KKT_new_eval,x0=initial_guess_new,method=\"lm\")\n",
    "standard_result_polar_KKT_new = opt.root(lambdified_KKT_new_eval,x0=standard_result_polar_KKT_new.x,method=\"lm\")\n"
   ]
  },
  {
   "cell_type": "code",
   "execution_count": null,
   "id": "f71a1528",
   "metadata": {},
   "outputs": [],
   "source": [
    "standard_result_polar_KKT_new = opt.root(lambdified_KKT_new_eval,x0=standard_result_polar_KKT_new.x)\n"
   ]
  },
  {
   "cell_type": "code",
   "execution_count": null,
   "id": "75630f64",
   "metadata": {},
   "outputs": [],
   "source": [
    "standard_result_polar_KKT_new"
   ]
  },
  {
   "cell_type": "markdown",
   "id": "2109ca0f",
   "metadata": {},
   "source": [
    "# Post-processing"
   ]
  },
  {
   "cell_type": "code",
   "execution_count": null,
   "id": "acc1ee50",
   "metadata": {},
   "outputs": [],
   "source": [
    "reshape_params = discrete_equations.cont_equations.parameters\n",
    "reshape_N = reshape_params[\"N\"]\n",
    "reshape_dim_q = reshape_params[\"dim_q\"]\n",
    "reshape_dim_u = reshape_params[\"dim_u\"]\n",
    "mu_KKT_new,nu_KKT_new = standard_result_polar_KKT_new.x[:2*reshape_dim_q].reshape(2,reshape_dim_q)\n",
    "q_d_KKT_new = standard_result_polar_KKT_new.x[2*reshape_dim_q:2*reshape_dim_q + reshape_dim_q * (reshape_N+1)].reshape(reshape_N + 1,reshape_dim_q)\n",
    "lam_d_KKT_new = standard_result_polar_KKT_new.x[2*reshape_dim_q + reshape_dim_q * (reshape_N+1):2*reshape_dim_q + 2*reshape_dim_q * (reshape_N+1)].reshape(reshape_N + 1,reshape_dim_q)\n",
    "\n",
    "U1_d_KKT_new = standard_result_polar_KKT_new.x[2*reshape_dim_q + 2*reshape_dim_q * (reshape_N+1):2*reshape_dim_q + 2*reshape_dim_q * (reshape_N+1) + (reshape_N+1)*reshape_dim_u].reshape(reshape_N + 1,reshape_params[\"dim_u\"])\n",
    "U2_d_KKT_new = standard_result_polar_KKT_new.x[2*reshape_dim_q + 2*reshape_dim_q * (reshape_N+1) + (reshape_N+1)*reshape_dim_u:].reshape(reshape_N + 1,reshape_params[\"dim_u\"])\n",
    "\n",
    "p_y_d_new = np.array([sympy.flatten(tmp) for tmp in discrete_equations.p_v_d_from_y_d(q_d_KKT_new,lam_d_KKT_new,U1_d_KKT_new,U2_d_KKT_new,OCP_parameters_np_version)])\n",
    "\n",
    "v_y_d_new = []\n",
    "for tmp1,tmp2,tmp3 in zip(q_d_KKT_new,lam_d_KKT_new,p_y_d_new):\n",
    "    v_y_d_new.append(sympy.flatten(discrete_equations.cont_equations.calc_vy_fromq_p_new(tmp1,tmp2,tmp3,OCP_parameters_np_version)))\n",
    "v_y_d_new = np.array(v_y_d_new) \n",
    "\n",
    "\n",
    "u_vec_KKT_new = []\n",
    "for i in range(len(q_d_KKT_new)):\n",
    "    u_vec_KKT_new.append(discrete_equations.cont_equations.u_expr_from_new_lambdified(*q_d_KKT_new[i],*lam_d_KKT_new[i],*v_y_d_new[i]).flatten())\n",
    "\n",
    "u_vec_KKT_new = np.array(u_vec_KKT_new)\n",
    "\n",
    "H_control_KKT_new = []\n",
    "for i in range(len(q_d_KKT_new)):\n",
    "    H_control_KKT_new.append(discrete_equations.cont_equations.new_control_H_v_calc(q_d_KKT_new[i],lam_d_KKT_new[i],v_y_d_new[i],u_vec_KKT_new[i],OCP_parameters_np_version))\n",
    "H_control_KKT_new = np.array(H_control_KKT_new)  \n",
    "\n",
    "I_d_evo_new = np.array(p_y_d_new.transpose()[0],float)"
   ]
  },
  {
   "cell_type": "markdown",
   "id": "dbc69522",
   "metadata": {},
   "source": [
    "# plot results"
   ]
  },
  {
   "cell_type": "code",
   "execution_count": null,
   "id": "b727a0db",
   "metadata": {},
   "outputs": [],
   "source": [
    "q_d_new_KKT_sol_cart = []\n",
    "\n",
    "q_d_new_KKT_sol_cart = q_d_KKT_new    \n",
    "q_d_new_KKT_sol_cart = np.array(q_d_new_KKT_sol_cart)\n",
    "\n",
    "\n",
    "plt.plot(OCP_parameters_np_version[\"times\"],q_d_new_KKT_sol_cart.transpose()[0],'--',label='new x evo')\n",
    "plt.plot(OCP_parameters_np_version[\"times\"],q_d_new_KKT_sol_cart.transpose()[1],'--',label='new theta1 evo')\n",
    "plt.plot(OCP_parameters_np_version[\"times\"],q_d_new_KKT_sol_cart.transpose()[2],'--',label='new theta2 evo')\n",
    "plt.legend()\n",
    "plt.xlabel('t')\n",
    "plt.ylabel('y')\n",
    "plt.tight_layout()\n",
    "\n",
    "plt.show()\n",
    "\n",
    "plt.plot(OCP_parameters_np_version[\"times\"],lam_d_KKT_new.transpose()[0],'--',label='new approach lam_r')\n",
    "plt.legend()\n",
    "plt.xlabel('t')\n",
    "plt.ylabel('lambda_r')\n",
    "plt.tight_layout()\n",
    "\n",
    "\n",
    "plt.show()\n",
    "plt.plot(OCP_parameters_np_version[\"times\"],lam_d_KKT_new.transpose()[1],'--',label='new aproach lam_phi')\n",
    "plt.legend()\n",
    "plt.xlabel('t')\n",
    "plt.ylabel('lambda_phi')\n",
    "plt.tight_layout()\n",
    "\n",
    "\n",
    "\n",
    "plt.show()\n",
    "plt.plot(U1_d_KKT_new[:-1].transpose()[0],'x',label='new u0')\n",
    "plt.plot(U1_d_KKT_new[:-1].transpose()[1],'x',label='new u1')\n",
    "plt.plot(U1_d_KKT_new[:-1].transpose()[2],'x',label='new u2')\n",
    "plt.plot(U_d_1_use[:-1,0,0],'--',label='comparison1')\n",
    "plt.plot(U_d_1_use[:-1,0,1],'--',label='comparison2')\n",
    "plt.plot(U_d_1_use[:-1,0,2],'--',label='comparison3')\n",
    "plt.legend()\n",
    "plt.xlabel('N step')\n",
    "plt.ylabel('U_1')\n",
    "plt.tight_layout()\n",
    "plt.show()\n",
    "\n",
    "plt.plot(U2_d_KKT_new[:-1],'x',label='new')\n",
    "plt.plot(U_d_2_use[:-1,0,0],'--',label='comparison1')\n",
    "plt.plot(U_d_2_use[:-1,0,1],'--',label='comparison2')\n",
    "plt.plot(U_d_2_use[:-1,0,2],'--',label='comparison3')\n",
    "plt.legend()\n",
    "plt.xlabel('N step')\n",
    "plt.ylabel('U_2')\n",
    "plt.tight_layout()\n",
    "\n",
    "\n",
    "plt.show()\n",
    "plt.plot(U_d_2_use[:-1,0,0],'--',label='comparison')\n",
    "plt.plot(u_vec_KKT_new[:,0],label='new u0d')\n",
    "plt.plot(u_vec_KKT_new[:,1],label='new u1d')\n",
    "plt.plot(u_vec_KKT_new[:,2],label='new u2d')\n",
    "plt.xlabel('N step')\n",
    "plt.ylabel('u_d')\n",
    "plt.legend()\n",
    "\n",
    "plt.show()\n",
    "plt.plot((np.array(I_d_evo_new)-np.array(I_d_evo_new)[0]),'X-',label=\"I new\")\n",
    "plt.legend()\n",
    "plt.xlabel('N step')\n",
    "plt.ylabel('I')\n",
    "plt.tight_layout()\n",
    "\n",
    "plt.show()\n",
    "plt.plot((H_control_KKT_new[:-1]),'-*',label='new control H')\n",
    "plt.legend()\n"
   ]
  },
  {
   "cell_type": "markdown",
   "id": "5b6cf7b5",
   "metadata": {},
   "source": [
    "# Saving data"
   ]
  },
  {
   "cell_type": "code",
   "execution_count": null,
   "id": "e995eefa",
   "metadata": {},
   "outputs": [],
   "source": [
    "from pathlib import Path \n",
    "\n",
    "if not standard_result_polar_KKT_new.success:\n",
    "    print('did not find a solution in control dependent case, not storing the result')\n",
    "else:\n",
    "    storage_dict = dict()\n",
    "    storage_dict[\"parameters\"] = OCP_parameters_np_version\n",
    "    storage_dict[\"q_d_new\"] = q_d_KKT_new\n",
    "    storage_dict[\"q_d_new_cartesian\"] = q_d_new_KKT_sol_cart\n",
    "    storage_dict[\"lambda_d_new\"] = lam_d_KKT_new\n",
    "    storage_dict[\"p_y_d_new\"] = np.array(p_y_d_new,dtype=float)\n",
    "    storage_dict[\"U1_d_new\"] = np.array(U1_d_KKT_new,dtype=float)\n",
    "    storage_dict[\"U2_d_new\"] = np.array(U2_d_KKT_new,dtype=float)\n",
    "    storage_dict[\"u_d_new\"] = np.array(u_vec_KKT_new,dtype=float)\n",
    "    storage_dict[\"I_d_new\"] = np.array(I_d_evo_new,dtype=float)\n",
    "    storage_dict[\"H_control_new\"] = np.array(H_control_KKT_new,dtype=float)\n",
    "    storage_dict[\"v_y_d_new\"] = np.array(v_y_d_new,dtype=float)\n",
    "    storage_dict[\"mu_sol\"] = np.array(mu_KKT_new,dtype=float)\n",
    "    storage_dict[\"nu_sol\"] = np.array(nu_KKT_new,dtype=float)\n",
    "\n",
    "\n",
    "    dirpath = \"data/\" + OCP_parameters_np_version[\"folder_name\"]+\"/data_\"+\"a=\" + str(OCP_parameters_np_version[\"alpha\"])  +\"g=\" + str(OCP_parameters_np_version[\"gamma\"])\n",
    "    Path(dirpath).mkdir(parents=True, exist_ok=True)\n",
    "\n",
    "    file_name = dirpath+\"/data_\" +\"a=\" + str(OCP_parameters_np_version[\"alpha\"])  +\"g=\" + str(OCP_parameters_np_version[\"gamma\"])  +\"N=\" + str(OCP_parameters_np_version[\"N\"]) + \".pkl\"\n",
    "    with open(file_name, 'wb') as ffile:\n",
    "        pickle.dump(storage_dict, ffile)\n",
    "        ffile.close()"
   ]
  },
  {
   "cell_type": "code",
   "execution_count": null,
   "id": "837a6f4d",
   "metadata": {},
   "outputs": [],
   "source": []
  }
 ],
 "metadata": {
  "kernelspec": {
   "display_name": "Python 3",
   "language": "python",
   "name": "python3"
  },
  "language_info": {
   "codemirror_mode": {
    "name": "ipython",
    "version": 3
   },
   "file_extension": ".py",
   "mimetype": "text/x-python",
   "name": "python",
   "nbconvert_exporter": "python",
   "pygments_lexer": "ipython3",
   "version": "3.11.1"
  }
 },
 "nbformat": 4,
 "nbformat_minor": 5
}
